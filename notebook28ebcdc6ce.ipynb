{
 "cells": [
  {
   "cell_type": "code",
   "execution_count": 49,
   "metadata": {},
   "outputs": [],
   "source": [
    "import pandas as pd\n",
    "import numpy as np\n",
    "import re\n",
    "import matplotlib.pyplot as plt\n",
    "import warnings\n",
    "warnings.filterwarnings(\"ignore\")\n",
    "from sklearn.metrics import mean_absolute_error\n",
    "from sklearn.metrics import mean_squared_error\n",
    "from sklearn.model_selection import train_test_split\n",
    "from sklearn.ensemble import RandomForestRegressor\n",
    "from sklearn.metrics import r2_score"
   ]
  },
  {
   "cell_type": "markdown",
   "metadata": {},
   "source": [
    "Calling the dataset and starting the data exploration, analyzing how it should be manipulated."
   ]
  },
  {
   "cell_type": "code",
   "execution_count": 20,
   "metadata": {},
   "outputs": [],
   "source": [
    "data = pd.read_csv('best-selling-manga.csv')"
   ]
  },
  {
   "cell_type": "markdown",
   "metadata": {},
   "source": [
    "Previewing the dataset"
   ]
  },
  {
   "cell_type": "code",
   "execution_count": 21,
   "metadata": {},
   "outputs": [
    {
     "data": {
      "text/html": [
       "<div>\n",
       "<style scoped>\n",
       "    .dataframe tbody tr th:only-of-type {\n",
       "        vertical-align: middle;\n",
       "    }\n",
       "\n",
       "    .dataframe tbody tr th {\n",
       "        vertical-align: top;\n",
       "    }\n",
       "\n",
       "    .dataframe thead th {\n",
       "        text-align: right;\n",
       "    }\n",
       "</style>\n",
       "<table border=\"1\" class=\"dataframe\">\n",
       "  <thead>\n",
       "    <tr style=\"text-align: right;\">\n",
       "      <th></th>\n",
       "      <th>Manga series</th>\n",
       "      <th>Author(s)</th>\n",
       "      <th>Publisher</th>\n",
       "      <th>Demographic</th>\n",
       "      <th>No. of collected volumes</th>\n",
       "      <th>Serialized</th>\n",
       "      <th>Approximate sales in million(s)</th>\n",
       "      <th>Average sales per volume in million(s)</th>\n",
       "    </tr>\n",
       "  </thead>\n",
       "  <tbody>\n",
       "    <tr>\n",
       "      <th>0</th>\n",
       "      <td>One Piece</td>\n",
       "      <td>Eiichiro Oda</td>\n",
       "      <td>Shueisha</td>\n",
       "      <td>Shōnen</td>\n",
       "      <td>104</td>\n",
       "      <td>1997–present</td>\n",
       "      <td>516.6</td>\n",
       "      <td>4.97</td>\n",
       "    </tr>\n",
       "    <tr>\n",
       "      <th>1</th>\n",
       "      <td>Golgo 13</td>\n",
       "      <td>Takao Saito, Saito Production</td>\n",
       "      <td>Shogakukan</td>\n",
       "      <td>Seinen</td>\n",
       "      <td>207</td>\n",
       "      <td>1968–present</td>\n",
       "      <td>300.0</td>\n",
       "      <td>1.45</td>\n",
       "    </tr>\n",
       "    <tr>\n",
       "      <th>2</th>\n",
       "      <td>Case Closed / Detective Conan</td>\n",
       "      <td>Gosho Aoyama</td>\n",
       "      <td>Shogakukan</td>\n",
       "      <td>Shōnen</td>\n",
       "      <td>102</td>\n",
       "      <td>1994–present</td>\n",
       "      <td>270.0</td>\n",
       "      <td>2.65</td>\n",
       "    </tr>\n",
       "    <tr>\n",
       "      <th>3</th>\n",
       "      <td>Dragon Ball</td>\n",
       "      <td>Akira Toriyama</td>\n",
       "      <td>Shueisha</td>\n",
       "      <td>Shōnen</td>\n",
       "      <td>42</td>\n",
       "      <td>1984–1995</td>\n",
       "      <td>260.0</td>\n",
       "      <td>6.19</td>\n",
       "    </tr>\n",
       "    <tr>\n",
       "      <th>4</th>\n",
       "      <td>Doraemon</td>\n",
       "      <td>Fujiko F. Fujio</td>\n",
       "      <td>Shogakukan</td>\n",
       "      <td>Children</td>\n",
       "      <td>45</td>\n",
       "      <td>1969–1996</td>\n",
       "      <td>250.0</td>\n",
       "      <td>4.71</td>\n",
       "    </tr>\n",
       "    <tr>\n",
       "      <th>5</th>\n",
       "      <td>Naruto</td>\n",
       "      <td>Masashi Kishimoto</td>\n",
       "      <td>Shueisha</td>\n",
       "      <td>Shōnen</td>\n",
       "      <td>72</td>\n",
       "      <td>1999–2014</td>\n",
       "      <td>250.0</td>\n",
       "      <td>3.47</td>\n",
       "    </tr>\n",
       "    <tr>\n",
       "      <th>6</th>\n",
       "      <td>Slam Dunk</td>\n",
       "      <td>Takehiko Inoue</td>\n",
       "      <td>Shueisha</td>\n",
       "      <td>Shōnen</td>\n",
       "      <td>31</td>\n",
       "      <td>1990–1996</td>\n",
       "      <td>170.0</td>\n",
       "      <td>5.48</td>\n",
       "    </tr>\n",
       "    <tr>\n",
       "      <th>7</th>\n",
       "      <td>KochiKame: Tokyo Beat Cops</td>\n",
       "      <td>Osamu Akimoto</td>\n",
       "      <td>Shueisha</td>\n",
       "      <td>Shōnen</td>\n",
       "      <td>201</td>\n",
       "      <td>1976–2016</td>\n",
       "      <td>156.5</td>\n",
       "      <td>0.78</td>\n",
       "    </tr>\n",
       "    <tr>\n",
       "      <th>8</th>\n",
       "      <td>Demon Slayer: Kimetsu no Yaiba</td>\n",
       "      <td>Koyoharu Gotouge</td>\n",
       "      <td>Shueisha</td>\n",
       "      <td>Shōnen</td>\n",
       "      <td>23</td>\n",
       "      <td>2016–2020</td>\n",
       "      <td>150.0</td>\n",
       "      <td>6.52</td>\n",
       "    </tr>\n",
       "    <tr>\n",
       "      <th>9</th>\n",
       "      <td>Oishinbo</td>\n",
       "      <td>Tetsu Kariya, Akira Hanasaki</td>\n",
       "      <td>Shogakukan</td>\n",
       "      <td>Seinen</td>\n",
       "      <td>111</td>\n",
       "      <td>1983–2014 (on hiatus)</td>\n",
       "      <td>135.0</td>\n",
       "      <td>1.22</td>\n",
       "    </tr>\n",
       "    <tr>\n",
       "      <th>10</th>\n",
       "      <td>Bleach</td>\n",
       "      <td>Tite Kubo</td>\n",
       "      <td>Shueisha</td>\n",
       "      <td>Shōnen</td>\n",
       "      <td>74</td>\n",
       "      <td>2001–2016</td>\n",
       "      <td>130.0</td>\n",
       "      <td>1.75</td>\n",
       "    </tr>\n",
       "    <tr>\n",
       "      <th>11</th>\n",
       "      <td>JoJo's Bizarre Adventure</td>\n",
       "      <td>Hirohiko Araki</td>\n",
       "      <td>Shueisha</td>\n",
       "      <td>Shōnen/Seinen</td>\n",
       "      <td>131</td>\n",
       "      <td>1987–present</td>\n",
       "      <td>120.0</td>\n",
       "      <td>0.92</td>\n",
       "    </tr>\n",
       "    <tr>\n",
       "      <th>12</th>\n",
       "      <td>Attack on Titan</td>\n",
       "      <td>Hajime Isayama</td>\n",
       "      <td>Kodansha</td>\n",
       "      <td>Shōnen</td>\n",
       "      <td>34</td>\n",
       "      <td>2009–2021</td>\n",
       "      <td>110.0</td>\n",
       "      <td>3.23</td>\n",
       "    </tr>\n",
       "    <tr>\n",
       "      <th>13</th>\n",
       "      <td>Astro Boy</td>\n",
       "      <td>Osamu Tezuka</td>\n",
       "      <td>Kobunsha</td>\n",
       "      <td>Shōnen</td>\n",
       "      <td>23</td>\n",
       "      <td>1952–1968</td>\n",
       "      <td>100.0</td>\n",
       "      <td>4.35</td>\n",
       "    </tr>\n",
       "    <tr>\n",
       "      <th>14</th>\n",
       "      <td>Fist of the North Star</td>\n",
       "      <td>Buronson, Tetsuo Hara</td>\n",
       "      <td>Shueisha</td>\n",
       "      <td>Shōnen</td>\n",
       "      <td>27</td>\n",
       "      <td>1983–1988</td>\n",
       "      <td>100.0</td>\n",
       "      <td>3.70</td>\n",
       "    </tr>\n",
       "  </tbody>\n",
       "</table>\n",
       "</div>"
      ],
      "text/plain": [
       "                      Manga series                      Author(s)   Publisher  \\\n",
       "0                        One Piece                   Eiichiro Oda    Shueisha   \n",
       "1                         Golgo 13  Takao Saito, Saito Production  Shogakukan   \n",
       "2    Case Closed / Detective Conan                   Gosho Aoyama  Shogakukan   \n",
       "3                      Dragon Ball                 Akira Toriyama    Shueisha   \n",
       "4                         Doraemon                Fujiko F. Fujio  Shogakukan   \n",
       "5                           Naruto              Masashi Kishimoto    Shueisha   \n",
       "6                        Slam Dunk                 Takehiko Inoue    Shueisha   \n",
       "7       KochiKame: Tokyo Beat Cops                  Osamu Akimoto    Shueisha   \n",
       "8   Demon Slayer: Kimetsu no Yaiba               Koyoharu Gotouge    Shueisha   \n",
       "9                         Oishinbo   Tetsu Kariya, Akira Hanasaki  Shogakukan   \n",
       "10                          Bleach                      Tite Kubo    Shueisha   \n",
       "11        JoJo's Bizarre Adventure                 Hirohiko Araki    Shueisha   \n",
       "12                 Attack on Titan                 Hajime Isayama    Kodansha   \n",
       "13                       Astro Boy                   Osamu Tezuka    Kobunsha   \n",
       "14          Fist of the North Star          Buronson, Tetsuo Hara    Shueisha   \n",
       "\n",
       "      Demographic  No. of collected volumes             Serialized  \\\n",
       "0          Shōnen                       104           1997–present   \n",
       "1          Seinen                       207           1968–present   \n",
       "2          Shōnen                       102           1994–present   \n",
       "3          Shōnen                        42              1984–1995   \n",
       "4        Children                        45              1969–1996   \n",
       "5          Shōnen                        72              1999–2014   \n",
       "6          Shōnen                        31              1990–1996   \n",
       "7          Shōnen                       201              1976–2016   \n",
       "8          Shōnen                        23              2016–2020   \n",
       "9          Seinen                       111  1983–2014 (on hiatus)   \n",
       "10         Shōnen                        74              2001–2016   \n",
       "11  Shōnen/Seinen                       131           1987–present   \n",
       "12         Shōnen                        34              2009–2021   \n",
       "13         Shōnen                        23              1952–1968   \n",
       "14         Shōnen                        27              1983–1988   \n",
       "\n",
       "    Approximate sales in million(s)  Average sales per volume in million(s)  \n",
       "0                             516.6                                    4.97  \n",
       "1                             300.0                                    1.45  \n",
       "2                             270.0                                    2.65  \n",
       "3                             260.0                                    6.19  \n",
       "4                             250.0                                    4.71  \n",
       "5                             250.0                                    3.47  \n",
       "6                             170.0                                    5.48  \n",
       "7                             156.5                                    0.78  \n",
       "8                             150.0                                    6.52  \n",
       "9                             135.0                                    1.22  \n",
       "10                            130.0                                    1.75  \n",
       "11                            120.0                                    0.92  \n",
       "12                            110.0                                    3.23  \n",
       "13                            100.0                                    4.35  \n",
       "14                            100.0                                    3.70  "
      ]
     },
     "execution_count": 21,
     "metadata": {},
     "output_type": "execute_result"
    }
   ],
   "source": [
    "data.head(15)"
   ]
  },
  {
   "cell_type": "markdown",
   "metadata": {},
   "source": [
    "Data description."
   ]
  },
  {
   "cell_type": "code",
   "execution_count": 22,
   "metadata": {},
   "outputs": [
    {
     "data": {
      "text/html": [
       "<div>\n",
       "<style scoped>\n",
       "    .dataframe tbody tr th:only-of-type {\n",
       "        vertical-align: middle;\n",
       "    }\n",
       "\n",
       "    .dataframe tbody tr th {\n",
       "        vertical-align: top;\n",
       "    }\n",
       "\n",
       "    .dataframe thead th {\n",
       "        text-align: right;\n",
       "    }\n",
       "</style>\n",
       "<table border=\"1\" class=\"dataframe\">\n",
       "  <thead>\n",
       "    <tr style=\"text-align: right;\">\n",
       "      <th></th>\n",
       "      <th>No. of collected volumes</th>\n",
       "      <th>Approximate sales in million(s)</th>\n",
       "      <th>Average sales per volume in million(s)</th>\n",
       "    </tr>\n",
       "  </thead>\n",
       "  <tbody>\n",
       "    <tr>\n",
       "      <th>count</th>\n",
       "      <td>187.000000</td>\n",
       "      <td>187.000000</td>\n",
       "      <td>187.000000</td>\n",
       "    </tr>\n",
       "    <tr>\n",
       "      <th>mean</th>\n",
       "      <td>46.048128</td>\n",
       "      <td>50.764332</td>\n",
       "      <td>1.377380</td>\n",
       "    </tr>\n",
       "    <tr>\n",
       "      <th>std</th>\n",
       "      <td>34.678288</td>\n",
       "      <td>57.178028</td>\n",
       "      <td>1.240013</td>\n",
       "    </tr>\n",
       "    <tr>\n",
       "      <th>min</th>\n",
       "      <td>5.000000</td>\n",
       "      <td>20.000000</td>\n",
       "      <td>0.190000</td>\n",
       "    </tr>\n",
       "    <tr>\n",
       "      <th>25%</th>\n",
       "      <td>23.500000</td>\n",
       "      <td>24.500000</td>\n",
       "      <td>0.670000</td>\n",
       "    </tr>\n",
       "    <tr>\n",
       "      <th>50%</th>\n",
       "      <td>34.000000</td>\n",
       "      <td>31.000000</td>\n",
       "      <td>1.030000</td>\n",
       "    </tr>\n",
       "    <tr>\n",
       "      <th>75%</th>\n",
       "      <td>56.500000</td>\n",
       "      <td>50.500000</td>\n",
       "      <td>1.650000</td>\n",
       "    </tr>\n",
       "    <tr>\n",
       "      <th>max</th>\n",
       "      <td>207.000000</td>\n",
       "      <td>516.600000</td>\n",
       "      <td>10.000000</td>\n",
       "    </tr>\n",
       "  </tbody>\n",
       "</table>\n",
       "</div>"
      ],
      "text/plain": [
       "       No. of collected volumes  Approximate sales in million(s)  \\\n",
       "count                187.000000                       187.000000   \n",
       "mean                  46.048128                        50.764332   \n",
       "std                   34.678288                        57.178028   \n",
       "min                    5.000000                        20.000000   \n",
       "25%                   23.500000                        24.500000   \n",
       "50%                   34.000000                        31.000000   \n",
       "75%                   56.500000                        50.500000   \n",
       "max                  207.000000                       516.600000   \n",
       "\n",
       "       Average sales per volume in million(s)  \n",
       "count                              187.000000  \n",
       "mean                                 1.377380  \n",
       "std                                  1.240013  \n",
       "min                                  0.190000  \n",
       "25%                                  0.670000  \n",
       "50%                                  1.030000  \n",
       "75%                                  1.650000  \n",
       "max                                 10.000000  "
      ]
     },
     "execution_count": 22,
     "metadata": {},
     "output_type": "execute_result"
    }
   ],
   "source": [
    "data.describe()"
   ]
  },
  {
   "cell_type": "markdown",
   "metadata": {},
   "source": [
    "Approach to the data context:\n",
    "\n",
    "* One Piece, the most popular manga in Japan's history, consequently, there are no outliers in its sales figures.\n",
    "\n",
    "* There are two main target audiences that seem to be the most popular: seinen and shonen.\n",
    "\n",
    "   1. Shonen: The term \"shonen\" refers to manga and anime primarily targeted at a young male audience. These stories are often filled with action, adventure, and exciting battles. The protagonists are typically brave and energetic young individuals who face challenges and overcome obstacles to achieve their goals. Popular examples of shonen include \"Dragon Ball,\" \"One Piece,\" \"Naruto,\" and \"My Hero Academia.\"\n",
    "\n",
    "   2. Seinen: On the other hand, \"seinen\" refers to manga and anime targeted at an adult male audience. These stories tend to be more mature and explore complex and profound themes. They often address aspects of everyday life, psychology, politics, romance, or violence in a more realistic and detailed manner. While they are intended for an adult audience, it does not mean they cannot be enjoyed by people of other ages. Popular examples of seinen include \"Attack on Titan,\" \"Berserk,\" \"Death Note,\" and \"Tokyo Ghoul.\"\n",
    "\n",
    "This context provides insight into the popularity of \"One Piece\" and the two primary audience segments it appeals to."
   ]
  },
  {
   "cell_type": "markdown",
   "metadata": {},
   "source": [
    "The dataset includes information about 187 mangas. Additionally, it is necessary to correct the date format. We are going to add two new columns: one for the release year and another one for the last publication year. Also, we will replace \"present\" with the current year. Furthermore, I believe it would be useful to add another column to determine if the manga is still ongoing or not."
   ]
  },
  {
   "cell_type": "code",
   "execution_count": 23,
   "metadata": {},
   "outputs": [
    {
     "name": "stdout",
     "output_type": "stream",
     "text": [
      "<class 'pandas.core.frame.DataFrame'>\n",
      "RangeIndex: 187 entries, 0 to 186\n",
      "Data columns (total 8 columns):\n",
      " #   Column                                  Non-Null Count  Dtype  \n",
      "---  ------                                  --------------  -----  \n",
      " 0   Manga series                            187 non-null    object \n",
      " 1   Author(s)                               187 non-null    object \n",
      " 2   Publisher                               187 non-null    object \n",
      " 3   Demographic                             187 non-null    object \n",
      " 4   No. of collected volumes                187 non-null    int64  \n",
      " 5   Serialized                              187 non-null    object \n",
      " 6   Approximate sales in million(s)         187 non-null    float64\n",
      " 7   Average sales per volume in million(s)  187 non-null    float64\n",
      "dtypes: float64(2), int64(1), object(5)\n",
      "memory usage: 11.8+ KB\n"
     ]
    }
   ],
   "source": [
    "data.info()"
   ]
  },
  {
   "cell_type": "markdown",
   "metadata": {},
   "source": [
    "Before continuing, I will clean the data and then create the additional columns that I consider necessary."
   ]
  },
  {
   "cell_type": "code",
   "execution_count": 24,
   "metadata": {},
   "outputs": [
    {
     "name": "stdout",
     "output_type": "stream",
     "text": [
      "Manga series-0\n",
      "Author(s)-0\n",
      "Publisher-0\n",
      "Demographic-0\n",
      "No. of collected volumes-0\n",
      "Serialized-0\n",
      "Approximate sales in million(s)-0\n",
      "Average sales per volume in million(s)-0\n"
     ]
    }
   ],
   "source": [
    "for columna in data.columns:\n",
    "    valores_nulos = data[columna].isnull().sum()\n",
    "    print('{}-{}'.format(columna,valores_nulos))"
   ]
  },
  {
   "cell_type": "markdown",
   "metadata": {},
   "source": [
    "Next, I will create the new columns."
   ]
  },
  {
   "cell_type": "code",
   "execution_count": 25,
   "metadata": {},
   "outputs": [],
   "source": [
    "datos = data\n",
    "def extract_years(Serialized):\n",
    "    \n",
    "    if 'present' in Serialized:\n",
    "        match = re.search(r'(\\d{4})–present', Serialized)  \n",
    "        start_year = match.group(1)\n",
    "        return start_year,\"2023\",\"present\"\n",
    "    \n",
    "    if 'on hiatus' in Serialized:\n",
    "        match = re.search(r'(\\d{4})–(\\d{4})', Serialized)\n",
    "        start_year = match.group(1)\n",
    "        end_year = match.group(2)\n",
    "        return start_year, end_year, 'on hiatus'\n",
    "    \n",
    "    else:\n",
    "        match = re.search(r'(\\d{4})–(\\d{4})', Serialized)\n",
    "        start_year = match.group(1)\n",
    "        end_year = match.group(2)\n",
    "        return start_year, end_year, 'End'\n",
    "        \n",
    "\n",
    "datos[['Inicio', 'Fin', 'Estado']] = datos['Serialized'].apply(extract_years).apply(pd.Series)\n",
    "\n"
   ]
  },
  {
   "cell_type": "code",
   "execution_count": 26,
   "metadata": {},
   "outputs": [],
   "source": [
    "data=datos"
   ]
  },
  {
   "cell_type": "code",
   "execution_count": 27,
   "metadata": {},
   "outputs": [
    {
     "data": {
      "text/html": [
       "<div>\n",
       "<style scoped>\n",
       "    .dataframe tbody tr th:only-of-type {\n",
       "        vertical-align: middle;\n",
       "    }\n",
       "\n",
       "    .dataframe tbody tr th {\n",
       "        vertical-align: top;\n",
       "    }\n",
       "\n",
       "    .dataframe thead th {\n",
       "        text-align: right;\n",
       "    }\n",
       "</style>\n",
       "<table border=\"1\" class=\"dataframe\">\n",
       "  <thead>\n",
       "    <tr style=\"text-align: right;\">\n",
       "      <th></th>\n",
       "      <th>Manga series</th>\n",
       "      <th>Author(s)</th>\n",
       "      <th>Publisher</th>\n",
       "      <th>Demographic</th>\n",
       "      <th>No. of collected volumes</th>\n",
       "      <th>Serialized</th>\n",
       "      <th>Approximate sales in million(s)</th>\n",
       "      <th>Average sales per volume in million(s)</th>\n",
       "      <th>Inicio</th>\n",
       "      <th>Fin</th>\n",
       "      <th>Estado</th>\n",
       "    </tr>\n",
       "  </thead>\n",
       "  <tbody>\n",
       "    <tr>\n",
       "      <th>0</th>\n",
       "      <td>One Piece</td>\n",
       "      <td>Eiichiro Oda</td>\n",
       "      <td>Shueisha</td>\n",
       "      <td>Shōnen</td>\n",
       "      <td>104</td>\n",
       "      <td>1997–present</td>\n",
       "      <td>516.6</td>\n",
       "      <td>4.97</td>\n",
       "      <td>1997</td>\n",
       "      <td>2023</td>\n",
       "      <td>present</td>\n",
       "    </tr>\n",
       "    <tr>\n",
       "      <th>1</th>\n",
       "      <td>Golgo 13</td>\n",
       "      <td>Takao Saito, Saito Production</td>\n",
       "      <td>Shogakukan</td>\n",
       "      <td>Seinen</td>\n",
       "      <td>207</td>\n",
       "      <td>1968–present</td>\n",
       "      <td>300.0</td>\n",
       "      <td>1.45</td>\n",
       "      <td>1968</td>\n",
       "      <td>2023</td>\n",
       "      <td>present</td>\n",
       "    </tr>\n",
       "    <tr>\n",
       "      <th>2</th>\n",
       "      <td>Case Closed / Detective Conan</td>\n",
       "      <td>Gosho Aoyama</td>\n",
       "      <td>Shogakukan</td>\n",
       "      <td>Shōnen</td>\n",
       "      <td>102</td>\n",
       "      <td>1994–present</td>\n",
       "      <td>270.0</td>\n",
       "      <td>2.65</td>\n",
       "      <td>1994</td>\n",
       "      <td>2023</td>\n",
       "      <td>present</td>\n",
       "    </tr>\n",
       "    <tr>\n",
       "      <th>3</th>\n",
       "      <td>Dragon Ball</td>\n",
       "      <td>Akira Toriyama</td>\n",
       "      <td>Shueisha</td>\n",
       "      <td>Shōnen</td>\n",
       "      <td>42</td>\n",
       "      <td>1984–1995</td>\n",
       "      <td>260.0</td>\n",
       "      <td>6.19</td>\n",
       "      <td>1984</td>\n",
       "      <td>1995</td>\n",
       "      <td>End</td>\n",
       "    </tr>\n",
       "    <tr>\n",
       "      <th>4</th>\n",
       "      <td>Doraemon</td>\n",
       "      <td>Fujiko F. Fujio</td>\n",
       "      <td>Shogakukan</td>\n",
       "      <td>Children</td>\n",
       "      <td>45</td>\n",
       "      <td>1969–1996</td>\n",
       "      <td>250.0</td>\n",
       "      <td>4.71</td>\n",
       "      <td>1969</td>\n",
       "      <td>1996</td>\n",
       "      <td>End</td>\n",
       "    </tr>\n",
       "    <tr>\n",
       "      <th>...</th>\n",
       "      <td>...</td>\n",
       "      <td>...</td>\n",
       "      <td>...</td>\n",
       "      <td>...</td>\n",
       "      <td>...</td>\n",
       "      <td>...</td>\n",
       "      <td>...</td>\n",
       "      <td>...</td>\n",
       "      <td>...</td>\n",
       "      <td>...</td>\n",
       "      <td>...</td>\n",
       "    </tr>\n",
       "    <tr>\n",
       "      <th>182</th>\n",
       "      <td>Sukeban Deka</td>\n",
       "      <td>Shinji Wada</td>\n",
       "      <td>Hakusensha</td>\n",
       "      <td>Shōjo</td>\n",
       "      <td>22</td>\n",
       "      <td>1976–1982</td>\n",
       "      <td>20.0</td>\n",
       "      <td>0.90</td>\n",
       "      <td>1976</td>\n",
       "      <td>1982</td>\n",
       "      <td>End</td>\n",
       "    </tr>\n",
       "    <tr>\n",
       "      <th>183</th>\n",
       "      <td>Swan</td>\n",
       "      <td>Kyoko Ariyoshi</td>\n",
       "      <td>Shueisha</td>\n",
       "      <td>Shōjo</td>\n",
       "      <td>21</td>\n",
       "      <td>1976–1981</td>\n",
       "      <td>20.0</td>\n",
       "      <td>0.95</td>\n",
       "      <td>1976</td>\n",
       "      <td>1981</td>\n",
       "      <td>End</td>\n",
       "    </tr>\n",
       "    <tr>\n",
       "      <th>184</th>\n",
       "      <td>The Tale of Genji</td>\n",
       "      <td>Waki Yamato</td>\n",
       "      <td>Kodansha</td>\n",
       "      <td>Shōjo</td>\n",
       "      <td>13</td>\n",
       "      <td>1980–1993</td>\n",
       "      <td>20.0</td>\n",
       "      <td>1.53</td>\n",
       "      <td>1980</td>\n",
       "      <td>1993</td>\n",
       "      <td>End</td>\n",
       "    </tr>\n",
       "    <tr>\n",
       "      <th>185</th>\n",
       "      <td>Tokyo Daigaku Monogatari</td>\n",
       "      <td>Tatsuya Egawa</td>\n",
       "      <td>Shogakukan</td>\n",
       "      <td>Seinen</td>\n",
       "      <td>34</td>\n",
       "      <td>1992–2001</td>\n",
       "      <td>20.0</td>\n",
       "      <td>0.58</td>\n",
       "      <td>1992</td>\n",
       "      <td>2001</td>\n",
       "      <td>End</td>\n",
       "    </tr>\n",
       "    <tr>\n",
       "      <th>186</th>\n",
       "      <td>Weed</td>\n",
       "      <td>Yoshihiro Takahashi</td>\n",
       "      <td>Nihon Bungeisha</td>\n",
       "      <td>Seinen</td>\n",
       "      <td>60</td>\n",
       "      <td>1999–2009</td>\n",
       "      <td>20.0</td>\n",
       "      <td>0.33</td>\n",
       "      <td>1999</td>\n",
       "      <td>2009</td>\n",
       "      <td>End</td>\n",
       "    </tr>\n",
       "  </tbody>\n",
       "</table>\n",
       "<p>187 rows × 11 columns</p>\n",
       "</div>"
      ],
      "text/plain": [
       "                      Manga series                      Author(s)  \\\n",
       "0                        One Piece                   Eiichiro Oda   \n",
       "1                         Golgo 13  Takao Saito, Saito Production   \n",
       "2    Case Closed / Detective Conan                   Gosho Aoyama   \n",
       "3                      Dragon Ball                 Akira Toriyama   \n",
       "4                         Doraemon                Fujiko F. Fujio   \n",
       "..                             ...                            ...   \n",
       "182                   Sukeban Deka                    Shinji Wada   \n",
       "183                           Swan                 Kyoko Ariyoshi   \n",
       "184              The Tale of Genji                    Waki Yamato   \n",
       "185       Tokyo Daigaku Monogatari                  Tatsuya Egawa   \n",
       "186                           Weed            Yoshihiro Takahashi   \n",
       "\n",
       "           Publisher Demographic  No. of collected volumes    Serialized  \\\n",
       "0           Shueisha      Shōnen                       104  1997–present   \n",
       "1         Shogakukan      Seinen                       207  1968–present   \n",
       "2         Shogakukan      Shōnen                       102  1994–present   \n",
       "3           Shueisha      Shōnen                        42     1984–1995   \n",
       "4         Shogakukan    Children                        45     1969–1996   \n",
       "..               ...         ...                       ...           ...   \n",
       "182       Hakusensha       Shōjo                        22     1976–1982   \n",
       "183         Shueisha       Shōjo                        21     1976–1981   \n",
       "184         Kodansha       Shōjo                        13     1980–1993   \n",
       "185       Shogakukan      Seinen                        34     1992–2001   \n",
       "186  Nihon Bungeisha      Seinen                        60     1999–2009   \n",
       "\n",
       "     Approximate sales in million(s)  Average sales per volume in million(s)  \\\n",
       "0                              516.6                                    4.97   \n",
       "1                              300.0                                    1.45   \n",
       "2                              270.0                                    2.65   \n",
       "3                              260.0                                    6.19   \n",
       "4                              250.0                                    4.71   \n",
       "..                               ...                                     ...   \n",
       "182                             20.0                                    0.90   \n",
       "183                             20.0                                    0.95   \n",
       "184                             20.0                                    1.53   \n",
       "185                             20.0                                    0.58   \n",
       "186                             20.0                                    0.33   \n",
       "\n",
       "    Inicio   Fin   Estado  \n",
       "0     1997  2023  present  \n",
       "1     1968  2023  present  \n",
       "2     1994  2023  present  \n",
       "3     1984  1995      End  \n",
       "4     1969  1996      End  \n",
       "..     ...   ...      ...  \n",
       "182   1976  1982      End  \n",
       "183   1976  1981      End  \n",
       "184   1980  1993      End  \n",
       "185   1992  2001      End  \n",
       "186   1999  2009      End  \n",
       "\n",
       "[187 rows x 11 columns]"
      ]
     },
     "execution_count": 27,
     "metadata": {},
     "output_type": "execute_result"
    }
   ],
   "source": [
    "data"
   ]
  },
  {
   "cell_type": "markdown",
   "metadata": {},
   "source": [
    "The \"Serialized\" column is not entirely standardized, and there is one inaccurate data point. However, it can be manually corrected using its index, and we can try to fix it. Nevertheless, we do not believe that the data is relevant."
   ]
  },
  {
   "cell_type": "markdown",
   "metadata": {},
   "source": [
    "The objective now is to represent graphically the values provided by the data. Therefore, I will characterize the columns \"author,\" \"publisher,\" \"demographic,\" and \"title\" based on their average sales per volume."
   ]
  },
  {
   "cell_type": "code",
   "execution_count": 28,
   "metadata": {},
   "outputs": [
    {
     "data": {
      "text/plain": [
       "Demographic\n",
       "Shōnen                101\n",
       "Seinen                 50\n",
       "Shōjo                  21\n",
       "Shōnen/Seinen           6\n",
       "Children                4\n",
       "Josei                   2\n",
       "—                       1\n",
       "Shōjo/Josei             1\n",
       "Shōnen/shōjo/Josei      1\n",
       "Name: count, dtype: int64"
      ]
     },
     "execution_count": 28,
     "metadata": {},
     "output_type": "execute_result"
    }
   ],
   "source": [
    "#Demografia\n",
    "demografia=data.Demographic.value_counts()\n",
    "demografia"
   ]
  },
  {
   "cell_type": "code",
   "execution_count": 29,
   "metadata": {},
   "outputs": [
    {
     "data": {
      "text/plain": [
       "Publisher\n",
       "Shueisha                                     65\n",
       "Kodansha                                     50\n",
       "Shogakukan                                   32\n",
       "Akita Shoten                                 11\n",
       "Hakusensha                                    7\n",
       "Nihon Bungeisha                               3\n",
       "Futabasha                                     2\n",
       "Shōnen Gahōsha                                2\n",
       "Square Enix                                   2\n",
       "Kadokawa Shoten                               2\n",
       "Ushio Shuppansha                              1\n",
       "Enix (2001–2003), Square Enix (2003–2010)     1\n",
       "Kobunsha                                      1\n",
       "Jitsugyo no Nihon Sha                         1\n",
       "Shueisha/Kodansha                             1\n",
       "Shinchosha, Tokuma Shoten                     1\n",
       "Square Enix, Ichijinsha                       1\n",
       "Gakken                                        1\n",
       "Enix                                          1\n",
       "Ushio Shuppan                                 1\n",
       "Shueisha/Shogakukan/Leed                      1\n",
       "Name: count, dtype: int64"
      ]
     },
     "execution_count": 29,
     "metadata": {},
     "output_type": "execute_result"
    }
   ],
   "source": [
    "#Editorial\n",
    "editorial=data.Publisher.value_counts()\n",
    "editorial"
   ]
  },
  {
   "cell_type": "code",
   "execution_count": null,
   "metadata": {},
   "outputs": [],
   "source": []
  },
  {
   "cell_type": "code",
   "execution_count": 30,
   "metadata": {},
   "outputs": [
    {
     "data": {
      "text/plain": [
       "Author(s)\n",
       "Rumiko Takahashi        4\n",
       "Tsukasa Hojo            3\n",
       "Naoki Urasawa           3\n",
       "Mitsuru Adachi          3\n",
       "Osamu Tezuka            3\n",
       "                       ..\n",
       "Tochi Ueyama            1\n",
       "Chieko Hosokawa         1\n",
       "Hiroyuki Nishimori      1\n",
       "Fuse, Taiki Kawakami    1\n",
       "Yoshihiro Takahashi     1\n",
       "Name: count, Length: 164, dtype: int64"
      ]
     },
     "execution_count": 30,
     "metadata": {},
     "output_type": "execute_result"
    }
   ],
   "source": [
    "#Autor\n",
    "data[\"Author(s)\"].value_counts()\n",
    "#Existen 164 autores diferentes, quizas es irrelevante intentar analizarlos"
   ]
  },
  {
   "cell_type": "markdown",
   "metadata": {},
   "source": [
    "**Demografia**\n"
   ]
  },
  {
   "cell_type": "code",
   "execution_count": 31,
   "metadata": {},
   "outputs": [
    {
     "data": {
      "image/png": "[encoded data removed]",
      "text/plain": [
       "<Figure size 640x480 with 1 Axes>"
      ]
     },
     "metadata": {},
     "output_type": "display_data"
    }
   ],
   "source": [
    "total = demografia.sum()\n",
    "porcentajes = demografia / total * 100\n",
    "\n",
    "umbral = 4 \n",
    "\n",
    "categorias_otros = porcentajes[porcentajes < umbral].index\n",
    "\n",
    "demografia_modificado = demografia.copy()\n",
    "demografia_modificado[categorias_otros] = demografia[~demografia.index.isin(categorias_otros)].sum()\n",
    "demografia_modificado = demografia_modificado[~demografia_modificado.index.isin(categorias_otros)]\n",
    "\n",
    "etiquetas = list(demografia_modificado.index)\n",
    "etiquetas.append(\"Others\")\n",
    "\n",
    "porcentajes_modificados = list(demografia_modificado / demografia_modificado.sum() * 100)\n",
    "porcentajes_modificados.append(porcentajes[categorias_otros].sum())\n",
    "\n",
    "fig, ax = plt.subplots()\n",
    "ax.pie(porcentajes_modificados, labels=etiquetas, autopct='%1.1f%%')\n",
    "plt.show()"
   ]
  },
  {
   "cell_type": "markdown",
   "metadata": {},
   "source": [
    "**Publisher**"
   ]
  },
  {
   "cell_type": "code",
   "execution_count": 32,
   "metadata": {},
   "outputs": [
    {
     "data": {
      "image/png": "[encoded data removed]",
      "text/plain": [
       "<Figure size 640x480 with 1 Axes>"
      ]
     },
     "metadata": {},
     "output_type": "display_data"
    }
   ],
   "source": [
    "total = editorial.sum()\n",
    "porcentajes = editorial / total * 100\n",
    "\n",
    "umbral = 4 \n",
    "\n",
    "categorias_otros = porcentajes[porcentajes < umbral].index\n",
    "\n",
    "editorial_modificado = editorial.copy()\n",
    "editorial_modificado[categorias_otros] = editorial[~editorial.index.isin(categorias_otros)].sum()\n",
    "editorial_modificado = editorial_modificado[~editorial_modificado.index.isin(categorias_otros)]\n",
    "\n",
    "etiquetas = list(editorial_modificado.index)\n",
    "etiquetas.append(\"Others\")\n",
    "\n",
    "porcentajes_modificados = list(editorial_modificado / editorial_modificado.sum() * 100)\n",
    "porcentajes_modificados.append(porcentajes[categorias_otros].sum())\n",
    "\n",
    "fig, ax = plt.subplots()\n",
    "ax.pie(porcentajes_modificados, labels=etiquetas, autopct='%1.1f%%')\n",
    "plt.show()"
   ]
  },
  {
   "cell_type": "markdown",
   "metadata": {},
   "source": [
    "Number of volumes sold by demographic throughout the years."
   ]
  },
  {
   "cell_type": "markdown",
   "metadata": {},
   "source": [
    "**Machine Learning (ML)**\n",
    "\n",
    "We are going to predict the value of \"Approximate sales in million(s).\""
   ]
  },
  {
   "cell_type": "code",
   "execution_count": 33,
   "metadata": {},
   "outputs": [],
   "source": [
    "X = data.drop(['Manga series','Author(s)','Publisher','Demographic','Serialized'],axis=1)\n",
    "mapeo = {\n",
    "    'present': 1,\n",
    "    'on hiatus': 2,\n",
    "    'End': 3\n",
    "}\n",
    "\n",
    "X['Estado'] = X['Estado'].map(mapeo)\n",
    "y = data['Approximate sales in million(s)']   "
   ]
  },
  {
   "cell_type": "code",
   "execution_count": null,
   "metadata": {},
   "outputs": [],
   "source": []
  },
  {
   "cell_type": "code",
   "execution_count": 34,
   "metadata": {},
   "outputs": [
    {
     "data": {
      "text/html": [
       "<style>#sk-container-id-2 {color: black;}#sk-container-id-2 pre{padding: 0;}#sk-container-id-2 div.sk-toggleable {background-color: white;}#sk-container-id-2 label.sk-toggleable__label {cursor: pointer;display: block;width: 100%;margin-bottom: 0;padding: 0.3em;box-sizing: border-box;text-align: center;}#sk-container-id-2 label.sk-toggleable__label-arrow:before {content: \"▸\";float: left;margin-right: 0.25em;color: #696969;}#sk-container-id-2 label.sk-toggleable__label-arrow:hover:before {color: black;}#sk-container-id-2 div.sk-estimator:hover label.sk-toggleable__label-arrow:before {color: black;}#sk-container-id-2 div.sk-toggleable__content {max-height: 0;max-width: 0;overflow: hidden;text-align: left;background-color: #f0f8ff;}#sk-container-id-2 div.sk-toggleable__content pre {margin: 0.2em;color: black;border-radius: 0.25em;background-color: #f0f8ff;}#sk-container-id-2 input.sk-toggleable__control:checked~div.sk-toggleable__content {max-height: 200px;max-width: 100%;overflow: auto;}#sk-container-id-2 input.sk-toggleable__control:checked~label.sk-toggleable__label-arrow:before {content: \"▾\";}#sk-container-id-2 div.sk-estimator input.sk-toggleable__control:checked~label.sk-toggleable__label {background-color: #d4ebff;}#sk-container-id-2 div.sk-label input.sk-toggleable__control:checked~label.sk-toggleable__label {background-color: #d4ebff;}#sk-container-id-2 input.sk-hidden--visually {border: 0;clip: rect(1px 1px 1px 1px);clip: rect(1px, 1px, 1px, 1px);height: 1px;margin: -1px;overflow: hidden;padding: 0;position: absolute;width: 1px;}#sk-container-id-2 div.sk-estimator {font-family: monospace;background-color: #f0f8ff;border: 1px dotted black;border-radius: 0.25em;box-sizing: border-box;margin-bottom: 0.5em;}#sk-container-id-2 div.sk-estimator:hover {background-color: #d4ebff;}#sk-container-id-2 div.sk-parallel-item::after {content: \"\";width: 100%;border-bottom: 1px solid gray;flex-grow: 1;}#sk-container-id-2 div.sk-label:hover label.sk-toggleable__label {background-color: #d4ebff;}#sk-container-id-2 div.sk-serial::before {content: \"\";position: absolute;border-left: 1px solid gray;box-sizing: border-box;top: 0;bottom: 0;left: 50%;z-index: 0;}#sk-container-id-2 div.sk-serial {display: flex;flex-direction: column;align-items: center;background-color: white;padding-right: 0.2em;padding-left: 0.2em;position: relative;}#sk-container-id-2 div.sk-item {position: relative;z-index: 1;}#sk-container-id-2 div.sk-parallel {display: flex;align-items: stretch;justify-content: center;background-color: white;position: relative;}#sk-container-id-2 div.sk-item::before, #sk-container-id-2 div.sk-parallel-item::before {content: \"\";position: absolute;border-left: 1px solid gray;box-sizing: border-box;top: 0;bottom: 0;left: 50%;z-index: -1;}#sk-container-id-2 div.sk-parallel-item {display: flex;flex-direction: column;z-index: 1;position: relative;background-color: white;}#sk-container-id-2 div.sk-parallel-item:first-child::after {align-self: flex-end;width: 50%;}#sk-container-id-2 div.sk-parallel-item:last-child::after {align-self: flex-start;width: 50%;}#sk-container-id-2 div.sk-parallel-item:only-child::after {width: 0;}#sk-container-id-2 div.sk-dashed-wrapped {border: 1px dashed gray;margin: 0 0.4em 0.5em 0.4em;box-sizing: border-box;padding-bottom: 0.4em;background-color: white;}#sk-container-id-2 div.sk-label label {font-family: monospace;font-weight: bold;display: inline-block;line-height: 1.2em;}#sk-container-id-2 div.sk-label-container {text-align: center;}#sk-container-id-2 div.sk-container {/* jupyter's `normalize.less` sets `[hidden] { display: none; }` but bootstrap.min.css set `[hidden] { display: none !important; }` so we also need the `!important` here to be able to override the default hidden behavior on the sphinx rendered scikit-learn.org. See: https://github.com/scikit-learn/scikit-learn/issues/21755 */display: inline-block !important;position: relative;}#sk-container-id-2 div.sk-text-repr-fallback {display: none;}</style><div id=\"sk-container-id-2\" class=\"sk-top-container\"><div class=\"sk-text-repr-fallback\"><pre>RandomForestRegressor(random_state=0)</pre><b>In a Jupyter environment, please rerun this cell to show the HTML representation or trust the notebook. <br />On GitHub, the HTML representation is unable to render, please try loading this page with nbviewer.org.</b></div><div class=\"sk-container\" hidden><div class=\"sk-item\"><div class=\"sk-estimator sk-toggleable\"><input class=\"sk-toggleable__control sk-hidden--visually\" id=\"sk-estimator-id-2\" type=\"checkbox\" checked><label for=\"sk-estimator-id-2\" class=\"sk-toggleable__label sk-toggleable__label-arrow\">RandomForestRegressor</label><div class=\"sk-toggleable__content\"><pre>RandomForestRegressor(random_state=0)</pre></div></div></div></div></div>"
      ],
      "text/plain": [
       "RandomForestRegressor(random_state=0)"
      ]
     },
     "execution_count": 34,
     "metadata": {},
     "output_type": "execute_result"
    }
   ],
   "source": [
    "X_train, X_test, y_train, y_test = train_test_split(X, y, test_size = 0.5, random_state=0)\n",
    "model = RandomForestRegressor(n_estimators=100, random_state=0, min_samples_split=2)\n",
    "model.fit(X_train,y_train)"
   ]
  },
  {
   "cell_type": "code",
   "execution_count": 35,
   "metadata": {},
   "outputs": [
    {
     "name": "stdout",
     "output_type": "stream",
     "text": [
      "mae_train 2.0383935483871016\n",
      "mae_test 2.860747872340421\n",
      "r2 96.5106130641618 %\n"
     ]
    }
   ],
   "source": [
    "y_train_predict = model.predict(X_train)\n",
    "train_mae = mean_absolute_error(y_train_predict, y_train)\n",
    "print(\"mae_train\", train_mae)\n",
    "\n",
    "y_test_predict = model.predict(X_test)\n",
    "test_mae = mean_absolute_error(y_test_predict, y_test)\n",
    "print(\"mae_test\", test_mae)\n",
    "\n",
    "r2 = r2_score(y_train_predict, y_train)\n",
    "print (\"r2\" ,r2*100 ,\"%\") "
   ]
  },
  {
   "cell_type": "code",
   "execution_count": 40,
   "metadata": {},
   "outputs": [
    {
     "data": {
      "text/plain": [
       "0.32169827663571116"
      ]
     },
     "execution_count": 40,
     "metadata": {},
     "output_type": "execute_result"
    }
   ],
   "source": [
    "from sklearn.tree import DecisionTreeRegressor\n",
    "dt=DecisionTreeRegressor(random_state=55)\n",
    "dt.fit(X_train,y_train)\n",
    "ypre=dt.predict(X_test)\n",
    "acc=r2_score(y_test,ypre)\n",
    "acc"
   ]
  },
  {
   "cell_type": "code",
   "execution_count": 42,
   "metadata": {},
   "outputs": [
    {
     "name": "stdout",
     "output_type": "stream",
     "text": [
      "R2 Score: 1.0\n",
      "Mean Squared Error: 9.773818772942545e-28\n",
      "Mean Absolute Error: 2.1127307940951915e-14\n"
     ]
    }
   ],
   "source": [
    "from sklearn.linear_model import LinearRegression\n",
    "from sklearn.metrics import r2_score, mean_squared_error, mean_absolute_error\n",
    "from sklearn.model_selection import train_test_split\n",
    "\n",
    "# Assuming you have already loaded and preprocessed your data into xtrain, ytrain, xtest, ytest\n",
    "\n",
    "lr = LinearRegression()\n",
    "lr.fit(X_train, y_train)\n",
    "ypred = lr.predict(X_test)\n",
    "\n",
    "# Calculate R-squared (R2) score\n",
    "acc = r2_score(y_test, ypred)\n",
    "\n",
    "# Calculate Mean Squared Error (MSE)\n",
    "mse = mean_squared_error(y_test, ypred)\n",
    "\n",
    "# Calculate Mean Absolute Error (MAE)\n",
    "mae = mean_absolute_error(y_test, ypred)\n",
    "\n",
    "print(\"R2 Score:\", acc)\n",
    "print(\"Mean Squared Error:\", mse)\n",
    "print(\"Mean Absolute Error:\", mae)"
   ]
  },
  {
   "cell_type": "code",
   "execution_count": 44,
   "metadata": {},
   "outputs": [],
   "source": [
    "param_grid = {\n",
    "    'n_estimators': [100, 500, 1000],\n",
    "    'max_features': ['auto', 'sqrt'],\n",
    "    'max_depth': [10, 20, None],\n",
    "    'min_samples_split': [2, 5, 10],\n",
    "    'min_samples_leaf': [1, 2, 4],\n",
    "    'bootstrap': [True, False]\n",
    "}"
   ]
  },
  {
   "cell_type": "code",
   "execution_count": 45,
   "metadata": {},
   "outputs": [
    {
     "name": "stdout",
     "output_type": "stream",
     "text": [
      "Fitting 5 folds for each of 324 candidates, totalling 1620 fits\n"
     ]
    },
    {
     "name": "stderr",
     "output_type": "stream",
     "text": [
      "C:\\Users\\Guduri Prasanna\\AppData\\Local\\Programs\\Python\\Python312\\Lib\\site-packages\\sklearn\\model_selection\\_validation.py:425: FitFailedWarning: \n",
      "810 fits failed out of a total of 1620.\n",
      "The score on these train-test partitions for these parameters will be set to nan.\n",
      "If these failures are not expected, you can try to debug them by setting error_score='raise'.\n",
      "\n",
      "Below are more details about the failures:\n",
      "--------------------------------------------------------------------------------\n",
      "510 fits failed with the following error:\n",
      "Traceback (most recent call last):\n",
      "  File \"C:\\Users\\Guduri Prasanna\\AppData\\Local\\Programs\\Python\\Python312\\Lib\\site-packages\\sklearn\\model_selection\\_validation.py\", line 729, in _fit_and_score\n",
      "    estimator.fit(X_train, y_train, **fit_params)\n",
      "  File \"C:\\Users\\Guduri Prasanna\\AppData\\Local\\Programs\\Python\\Python312\\Lib\\site-packages\\sklearn\\base.py\", line 1145, in wrapper\n",
      "    estimator._validate_params()\n",
      "  File \"C:\\Users\\Guduri Prasanna\\AppData\\Local\\Programs\\Python\\Python312\\Lib\\site-packages\\sklearn\\base.py\", line 638, in _validate_params\n",
      "    validate_parameter_constraints(\n",
      "  File \"C:\\Users\\Guduri Prasanna\\AppData\\Local\\Programs\\Python\\Python312\\Lib\\site-packages\\sklearn\\utils\\_param_validation.py\", line 96, in validate_parameter_constraints\n",
      "    raise InvalidParameterError(\n",
      "sklearn.utils._param_validation.InvalidParameterError: The 'max_features' parameter of RandomForestRegressor must be an int in the range [1, inf), a float in the range (0.0, 1.0], a str among {'log2', 'sqrt'} or None. Got 'auto' instead.\n",
      "\n",
      "--------------------------------------------------------------------------------\n",
      "300 fits failed with the following error:\n",
      "Traceback (most recent call last):\n",
      "  File \"C:\\Users\\Guduri Prasanna\\AppData\\Local\\Programs\\Python\\Python312\\Lib\\site-packages\\sklearn\\model_selection\\_validation.py\", line 729, in _fit_and_score\n",
      "    estimator.fit(X_train, y_train, **fit_params)\n",
      "  File \"C:\\Users\\Guduri Prasanna\\AppData\\Local\\Programs\\Python\\Python312\\Lib\\site-packages\\sklearn\\base.py\", line 1145, in wrapper\n",
      "    estimator._validate_params()\n",
      "  File \"C:\\Users\\Guduri Prasanna\\AppData\\Local\\Programs\\Python\\Python312\\Lib\\site-packages\\sklearn\\base.py\", line 638, in _validate_params\n",
      "    validate_parameter_constraints(\n",
      "  File \"C:\\Users\\Guduri Prasanna\\AppData\\Local\\Programs\\Python\\Python312\\Lib\\site-packages\\sklearn\\utils\\_param_validation.py\", line 96, in validate_parameter_constraints\n",
      "    raise InvalidParameterError(\n",
      "sklearn.utils._param_validation.InvalidParameterError: The 'max_features' parameter of RandomForestRegressor must be an int in the range [1, inf), a float in the range (0.0, 1.0], a str among {'sqrt', 'log2'} or None. Got 'auto' instead.\n",
      "\n",
      "  warnings.warn(some_fits_failed_message, FitFailedWarning)\n",
      "C:\\Users\\Guduri Prasanna\\AppData\\Local\\Programs\\Python\\Python312\\Lib\\site-packages\\sklearn\\model_selection\\_search.py:979: UserWarning: One or more of the test scores are non-finite: [       nan        nan        nan        nan        nan        nan\n",
      "        nan        nan        nan        nan        nan        nan\n",
      "        nan        nan        nan        nan        nan        nan\n",
      "        nan        nan        nan        nan        nan        nan\n",
      "        nan        nan        nan 0.72312511 0.75536459 0.75438867\n",
      " 0.68473828 0.69816506 0.71197267 0.68233554 0.64533975 0.65725351\n",
      " 0.72330478 0.73814029 0.74203294 0.72336164 0.72781013 0.7320454\n",
      " 0.60568502 0.63585679 0.65620259 0.62258501 0.6344461  0.62682024\n",
      " 0.62541306 0.63768716 0.61645426 0.59534225 0.61347515 0.61618043\n",
      "        nan        nan        nan        nan        nan        nan\n",
      "        nan        nan        nan        nan        nan        nan\n",
      "        nan        nan        nan        nan        nan        nan\n",
      "        nan        nan        nan        nan        nan        nan\n",
      "        nan        nan        nan 0.72488092 0.75423504 0.75129525\n",
      " 0.70836489 0.70666761 0.71386897 0.64746358 0.65008595 0.66830931\n",
      " 0.75320253 0.73794952 0.73567642 0.7030053  0.71082675 0.72283663\n",
      " 0.61775371 0.63324051 0.64942656 0.62888223 0.60717153 0.63429274\n",
      " 0.60320041 0.62702208 0.62684066 0.61204652 0.5865137  0.60054311\n",
      "        nan        nan        nan        nan        nan        nan\n",
      "        nan        nan        nan        nan        nan        nan\n",
      "        nan        nan        nan        nan        nan        nan\n",
      "        nan        nan        nan        nan        nan        nan\n",
      "        nan        nan        nan 0.75258337 0.74394348 0.7480919\n",
      " 0.73833762 0.7176058  0.71441062 0.64825521 0.66165821 0.65584574\n",
      " 0.73858287 0.74026242 0.73512173 0.70413816 0.73497456 0.73637952\n",
      " 0.61157941 0.64187323 0.65065341 0.62265707 0.61979212 0.62916879\n",
      " 0.61871145 0.63048833 0.63129936 0.60908848 0.61156266 0.60283537\n",
      "        nan        nan        nan        nan        nan        nan\n",
      "        nan        nan        nan        nan        nan        nan\n",
      "        nan        nan        nan        nan        nan        nan\n",
      "        nan        nan        nan        nan        nan        nan\n",
      "        nan        nan        nan 0.83040612 0.80950861 0.81975365\n",
      " 0.76972163 0.80451936 0.81461601 0.72753886 0.75619473 0.74179578\n",
      " 0.80484292 0.79785865 0.79986108 0.79027588 0.78867487 0.79593584\n",
      " 0.7181036  0.72240069 0.71650467 0.68775754 0.67496437 0.65884174\n",
      " 0.69777083 0.66322381 0.66349209 0.62967851 0.64646425 0.64404634\n",
      "        nan        nan        nan        nan        nan        nan\n",
      "        nan        nan        nan        nan        nan        nan\n",
      "        nan        nan        nan        nan        nan        nan\n",
      "        nan        nan        nan        nan        nan        nan\n",
      "        nan        nan        nan 0.83055662 0.83173607 0.82057882\n",
      " 0.80244204 0.8112234  0.8090853  0.75397439 0.74635461 0.75118267\n",
      " 0.80923922 0.79003989 0.80140368 0.78854279 0.78945558 0.78888273\n",
      " 0.69429428 0.71364516 0.71178887 0.66842217 0.67879243 0.66927774\n",
      " 0.6733176  0.65720096 0.67946969 0.64353079 0.6469391  0.65219771\n",
      "        nan        nan        nan        nan        nan        nan\n",
      "        nan        nan        nan        nan        nan        nan\n",
      "        nan        nan        nan        nan        nan        nan\n",
      "        nan        nan        nan        nan        nan        nan\n",
      "        nan        nan        nan 0.80131523 0.81529127 0.82093679\n",
      " 0.80699108 0.81469933 0.81324997 0.72737088 0.74549976 0.74207193\n",
      " 0.78453905 0.80673148 0.79917458 0.78470151 0.79069102 0.79220577\n",
      " 0.7038917  0.72103908 0.71420821 0.66387617 0.67000188 0.67373702\n",
      " 0.65629474 0.66884538 0.67250216 0.62368983 0.64405747 0.65181965]\n",
      "  warnings.warn(\n"
     ]
    },
    {
     "data": {
      "text/plain": [
       "0.9308496625599095"
      ]
     },
     "execution_count": 45,
     "metadata": {},
     "output_type": "execute_result"
    }
   ],
   "source": [
    "from sklearn.model_selection import GridSearchCV\n",
    "from sklearn.model_selection import RandomizedSearchCV\n",
    "from sklearn.ensemble import RandomForestRegressor\n",
    "rf=RandomForestRegressor()\n",
    "rf_grid=GridSearchCV(estimator = rf,param_grid =param_grid,verbose=2,n_jobs=-1)\n",
    "rf_grid.fit(X_train,y_train)\n",
    "yp=rf_grid.predict(X_test)\n",
    "acc=r2_score(y_test,yp)\n",
    "acc"
   ]
  },
  {
   "cell_type": "code",
   "execution_count": 46,
   "metadata": {},
   "outputs": [],
   "source": [
    "yp=rf_grid.predict(X_test)"
   ]
  },
  {
   "cell_type": "code",
   "execution_count": 47,
   "metadata": {},
   "outputs": [
    {
     "data": {
      "text/plain": [
       "0.9308496625599095"
      ]
     },
     "execution_count": 47,
     "metadata": {},
     "output_type": "execute_result"
    }
   ],
   "source": [
    "acc=r2_score(y_test,yp)\n",
    "acc"
   ]
  },
  {
   "cell_type": "code",
   "execution_count": 50,
   "metadata": {},
   "outputs": [],
   "source": [
    "from joblib import load,dump"
   ]
  },
  {
   "cell_type": "code",
   "execution_count": 51,
   "metadata": {},
   "outputs": [
    {
     "data": {
      "text/plain": [
       "['RFS.joblib']"
      ]
     },
     "execution_count": 51,
     "metadata": {},
     "output_type": "execute_result"
    }
   ],
   "source": [
    "dump(rf,'RFS.joblib')"
   ]
  },
  {
   "cell_type": "code",
   "execution_count": 52,
   "metadata": {},
   "outputs": [
    {
     "data": {
      "text/html": [
       "<style>#sk-container-id-3 {color: black;}#sk-container-id-3 pre{padding: 0;}#sk-container-id-3 div.sk-toggleable {background-color: white;}#sk-container-id-3 label.sk-toggleable__label {cursor: pointer;display: block;width: 100%;margin-bottom: 0;padding: 0.3em;box-sizing: border-box;text-align: center;}#sk-container-id-3 label.sk-toggleable__label-arrow:before {content: \"▸\";float: left;margin-right: 0.25em;color: #696969;}#sk-container-id-3 label.sk-toggleable__label-arrow:hover:before {color: black;}#sk-container-id-3 div.sk-estimator:hover label.sk-toggleable__label-arrow:before {color: black;}#sk-container-id-3 div.sk-toggleable__content {max-height: 0;max-width: 0;overflow: hidden;text-align: left;background-color: #f0f8ff;}#sk-container-id-3 div.sk-toggleable__content pre {margin: 0.2em;color: black;border-radius: 0.25em;background-color: #f0f8ff;}#sk-container-id-3 input.sk-toggleable__control:checked~div.sk-toggleable__content {max-height: 200px;max-width: 100%;overflow: auto;}#sk-container-id-3 input.sk-toggleable__control:checked~label.sk-toggleable__label-arrow:before {content: \"▾\";}#sk-container-id-3 div.sk-estimator input.sk-toggleable__control:checked~label.sk-toggleable__label {background-color: #d4ebff;}#sk-container-id-3 div.sk-label input.sk-toggleable__control:checked~label.sk-toggleable__label {background-color: #d4ebff;}#sk-container-id-3 input.sk-hidden--visually {border: 0;clip: rect(1px 1px 1px 1px);clip: rect(1px, 1px, 1px, 1px);height: 1px;margin: -1px;overflow: hidden;padding: 0;position: absolute;width: 1px;}#sk-container-id-3 div.sk-estimator {font-family: monospace;background-color: #f0f8ff;border: 1px dotted black;border-radius: 0.25em;box-sizing: border-box;margin-bottom: 0.5em;}#sk-container-id-3 div.sk-estimator:hover {background-color: #d4ebff;}#sk-container-id-3 div.sk-parallel-item::after {content: \"\";width: 100%;border-bottom: 1px solid gray;flex-grow: 1;}#sk-container-id-3 div.sk-label:hover label.sk-toggleable__label {background-color: #d4ebff;}#sk-container-id-3 div.sk-serial::before {content: \"\";position: absolute;border-left: 1px solid gray;box-sizing: border-box;top: 0;bottom: 0;left: 50%;z-index: 0;}#sk-container-id-3 div.sk-serial {display: flex;flex-direction: column;align-items: center;background-color: white;padding-right: 0.2em;padding-left: 0.2em;position: relative;}#sk-container-id-3 div.sk-item {position: relative;z-index: 1;}#sk-container-id-3 div.sk-parallel {display: flex;align-items: stretch;justify-content: center;background-color: white;position: relative;}#sk-container-id-3 div.sk-item::before, #sk-container-id-3 div.sk-parallel-item::before {content: \"\";position: absolute;border-left: 1px solid gray;box-sizing: border-box;top: 0;bottom: 0;left: 50%;z-index: -1;}#sk-container-id-3 div.sk-parallel-item {display: flex;flex-direction: column;z-index: 1;position: relative;background-color: white;}#sk-container-id-3 div.sk-parallel-item:first-child::after {align-self: flex-end;width: 50%;}#sk-container-id-3 div.sk-parallel-item:last-child::after {align-self: flex-start;width: 50%;}#sk-container-id-3 div.sk-parallel-item:only-child::after {width: 0;}#sk-container-id-3 div.sk-dashed-wrapped {border: 1px dashed gray;margin: 0 0.4em 0.5em 0.4em;box-sizing: border-box;padding-bottom: 0.4em;background-color: white;}#sk-container-id-3 div.sk-label label {font-family: monospace;font-weight: bold;display: inline-block;line-height: 1.2em;}#sk-container-id-3 div.sk-label-container {text-align: center;}#sk-container-id-3 div.sk-container {/* jupyter's `normalize.less` sets `[hidden] { display: none; }` but bootstrap.min.css set `[hidden] { display: none !important; }` so we also need the `!important` here to be able to override the default hidden behavior on the sphinx rendered scikit-learn.org. See: https://github.com/scikit-learn/scikit-learn/issues/21755 */display: inline-block !important;position: relative;}#sk-container-id-3 div.sk-text-repr-fallback {display: none;}</style><div id=\"sk-container-id-3\" class=\"sk-top-container\"><div class=\"sk-text-repr-fallback\"><pre>RandomForestRegressor()</pre><b>In a Jupyter environment, please rerun this cell to show the HTML representation or trust the notebook. <br />On GitHub, the HTML representation is unable to render, please try loading this page with nbviewer.org.</b></div><div class=\"sk-container\" hidden><div class=\"sk-item\"><div class=\"sk-estimator sk-toggleable\"><input class=\"sk-toggleable__control sk-hidden--visually\" id=\"sk-estimator-id-3\" type=\"checkbox\" checked><label for=\"sk-estimator-id-3\" class=\"sk-toggleable__label sk-toggleable__label-arrow\">RandomForestRegressor</label><div class=\"sk-toggleable__content\"><pre>RandomForestRegressor()</pre></div></div></div></div></div>"
      ],
      "text/plain": [
       "RandomForestRegressor()"
      ]
     },
     "execution_count": 52,
     "metadata": {},
     "output_type": "execute_result"
    }
   ],
   "source": [
    "load('RFS.joblib')"
   ]
  },
  {
   "cell_type": "code",
   "execution_count": null,
   "metadata": {},
   "outputs": [],
   "source": []
  }
 ],
 "metadata": {
  "kernelspec": {
   "display_name": "Python 3 (ipykernel)",
   "language": "python",
   "name": "python3"
  },
  "language_info": {
   "codemirror_mode": {
    "name": "ipython",
    "version": 3
   },
   "file_extension": ".py",
   "mimetype": "text/x-python",
   "name": "python",
   "nbconvert_exporter": "python",
   "pygments_lexer": "ipython3",
   "version": "3.12.0"
  }
 },
 "nbformat": 4,
 "nbformat_minor": 4
}
